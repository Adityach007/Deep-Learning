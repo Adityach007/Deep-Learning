{
  "nbformat": 4,
  "nbformat_minor": 0,
  "metadata": {
    "colab": {
      "provenance": []
    },
    "kernelspec": {
      "name": "python3",
      "display_name": "Python 3"
    },
    "language_info": {
      "name": "python"
    }
  },
  "cells": [
    {
      "cell_type": "markdown",
      "source": [
        "#**FINE TUNING NEURAL NETWORK HYPERPARAMETERS**"
      ],
      "metadata": {
        "id": "lF4nU0BOfiZ8"
      }
    },
    {
      "cell_type": "code",
      "execution_count": null,
      "metadata": {
        "colab": {
          "base_uri": "https://localhost:8080/"
        },
        "id": "9nk8N2Ktd6tA",
        "outputId": "dbe70556-3be2-42df-9076-0d846814541f"
      },
      "outputs": [
        {
          "output_type": "stream",
          "name": "stdout",
          "text": [
            "\u001b[?25l     \u001b[90m━━━━━━━━━━━━━━━━━━━━━━━━━━━━━━━━━━━━━━━━\u001b[0m \u001b[32m0.0/128.9 kB\u001b[0m \u001b[31m?\u001b[0m eta \u001b[36m-:--:--\u001b[0m\r\u001b[2K     \u001b[91m━━━━━━━━━\u001b[0m\u001b[91m╸\u001b[0m\u001b[90m━━━━━━━━━━━━━━━━━━━━━━━━━━━━━━\u001b[0m \u001b[32m30.7/128.9 kB\u001b[0m \u001b[31m1.0 MB/s\u001b[0m eta \u001b[36m0:00:01\u001b[0m\r\u001b[2K     \u001b[90m━━━━━━━━━━━━━━━━━━━━━━━━━━━━━━━━━━━━━━━━\u001b[0m \u001b[32m128.9/128.9 kB\u001b[0m \u001b[31m2.0 MB/s\u001b[0m eta \u001b[36m0:00:00\u001b[0m\n",
            "\u001b[?25h"
          ]
        }
      ],
      "source": [
        "%pip install -q -U keras-tuner"
      ]
    },
    {
      "cell_type": "code",
      "source": [
        "%load_ext tensorboard"
      ],
      "metadata": {
        "id": "kK4w3WGQiXQk"
      },
      "execution_count": null,
      "outputs": []
    },
    {
      "cell_type": "code",
      "source": [
        "import tensorflow as tf\n",
        "fashion_mnist = tf.keras.datasets.fashion_mnist.load_data()\n",
        "(x_train_full, y_train_full), (x_test, y_test) = fashion_mnist\n",
        "x_train, y_train = x_train_full[:-5000], y_train_full[:-5000]\n",
        "x_valid, y_valid = x_train_full[-5000:], y_train_full[-5000:]"
      ],
      "metadata": {
        "colab": {
          "base_uri": "https://localhost:8080/"
        },
        "id": "D5g5a57ctnhK",
        "outputId": "e08db7d4-6970-4268-fea3-5ded4b930a99"
      },
      "execution_count": null,
      "outputs": [
        {
          "output_type": "stream",
          "name": "stdout",
          "text": [
            "Downloading data from https://storage.googleapis.com/tensorflow/tf-keras-datasets/train-labels-idx1-ubyte.gz\n",
            "29515/29515 [==============================] - 0s 0us/step\n",
            "Downloading data from https://storage.googleapis.com/tensorflow/tf-keras-datasets/train-images-idx3-ubyte.gz\n",
            "26421880/26421880 [==============================] - 1s 0us/step\n",
            "Downloading data from https://storage.googleapis.com/tensorflow/tf-keras-datasets/t10k-labels-idx1-ubyte.gz\n",
            "5148/5148 [==============================] - 0s 0us/step\n",
            "Downloading data from https://storage.googleapis.com/tensorflow/tf-keras-datasets/t10k-images-idx3-ubyte.gz\n",
            "4422102/4422102 [==============================] - 0s 0us/step\n"
          ]
        }
      ]
    },
    {
      "cell_type": "code",
      "source": [
        "x_train, x_test, x_valid = x_train/255., x_test/255., x_valid/255."
      ],
      "metadata": {
        "id": "Tso95OrerVnq"
      },
      "execution_count": null,
      "outputs": []
    },
    {
      "cell_type": "code",
      "source": [
        "import keras_tuner as kt\n",
        "\n",
        "def model_build(hyper_parameters):\n",
        "  n_hidden = hyper_parameters.Int(\"n_hidden\", min_value=0, max_value=8, default=2)\n",
        "  n_neurons = hyper_parameters.Int(\"n_neurons\", min_value=16, max_value=256)\n",
        "  learning_rate = hyper_parameters.Float(\"learning_rate\", min_value=1e-4, max_value=1e-2, sampling=\"log\")\n",
        "\n",
        "  optimizer = hyper_parameters.Choice(\"optimizers\", values=[\"sgd\", \"adam\"])\n",
        "  if optimizer == \"sgd\":\n",
        "    optimizer = tf.keras.optimizers.SGD(learning_rate=learning_rate)\n",
        "  else:\n",
        "    optimizer = tf.keras.optimizers.Adam(learning_rate=learning_rate)\n",
        "\n",
        "  model = tf.keras.Sequential()\n",
        "  model.add(tf.keras.layers.Flatten())\n",
        "  for _ in range(n_hidden):\n",
        "    model.add(tf.keras.layers.Dense(n_neurons, activation=\"relu\"))\n",
        "\n",
        "  model.add(tf.keras.layers.Dense(10, activation=\"softmax\"))\n",
        "  model.compile(loss=\"sparse_categorical_crossentropy\", optimizer=optimizer, metrics=[\"accuracy\"])\n",
        "\n",
        "  return model"
      ],
      "metadata": {
        "id": "XQYnp3kWf8nX"
      },
      "execution_count": null,
      "outputs": []
    },
    {
      "cell_type": "code",
      "source": [
        "random_search_tuner = kt.RandomSearch(\n",
        "    model_build, objective=\"val_accuracy\", max_trials=5, overwrite=True, directory=\"my_fashion_mnist\", project_name=\"my_rnd_search\", seed=42)\n",
        "\n",
        "random_search_tuner.search(x_train, y_train, epochs=10, validation_data=(x_valid, y_valid))"
      ],
      "metadata": {
        "id": "_qvHHykesN5L",
        "colab": {
          "base_uri": "https://localhost:8080/"
        },
        "outputId": "8f8c01c2-8c54-4960-a65a-b40d9ef0db98"
      },
      "execution_count": null,
      "outputs": [
        {
          "output_type": "stream",
          "name": "stdout",
          "text": [
            "Trial 5 Complete [00h 01m 23s]\n",
            "val_accuracy: 0.7056000232696533\n",
            "\n",
            "Best val_accuracy So Far: 0.8629999756813049\n",
            "Total elapsed time: 00h 06m 05s\n"
          ]
        }
      ]
    },
    {
      "cell_type": "code",
      "source": [
        "top3_models = random_search_tuner.get_best_models(num_models=3)\n",
        "best_model = top3_models[0]"
      ],
      "metadata": {
        "id": "bP03sKBPtyTg"
      },
      "execution_count": null,
      "outputs": []
    },
    {
      "cell_type": "code",
      "source": [
        "top3_parameters = random_search_tuner.get_best_hyperparameters(num_trials=3)\n",
        "for i in range(3):\n",
        "  print(top3_parameters[i].values)\n",
        "  print()"
      ],
      "metadata": {
        "colab": {
          "base_uri": "https://localhost:8080/"
        },
        "id": "-VvXoB2N9rYb",
        "outputId": "1554b8fd-4e7c-4182-e1d1-74ac8b269477"
      },
      "execution_count": null,
      "outputs": [
        {
          "output_type": "stream",
          "name": "stdout",
          "text": [
            "{'n_hidden': 8, 'n_neurons': 37, 'learning_rate': 0.008547485565344062, 'optimizers': 'sgd'}\n",
            "\n",
            "{'n_hidden': 4, 'n_neurons': 74, 'learning_rate': 0.00905127409782462, 'optimizers': 'adam'}\n",
            "\n",
            "{'n_hidden': 7, 'n_neurons': 100, 'learning_rate': 0.0012482904754698163, 'optimizers': 'sgd'}\n",
            "\n"
          ]
        }
      ]
    },
    {
      "cell_type": "code",
      "source": [
        "best_trials = random_search_tuner.oracle.get_best_trials(num_trials=1)[0]\n",
        "best_trials.summary()"
      ],
      "metadata": {
        "colab": {
          "base_uri": "https://localhost:8080/"
        },
        "id": "dl1Ptpei9tA7",
        "outputId": "bd093899-cd2a-47ec-d22a-db70cfabb472"
      },
      "execution_count": null,
      "outputs": [
        {
          "output_type": "stream",
          "name": "stdout",
          "text": [
            "Trial 3 summary\n",
            "Hyperparameters:\n",
            "n_hidden: 8\n",
            "n_neurons: 37\n",
            "learning_rate: 0.008547485565344062\n",
            "optimizers: sgd\n",
            "Score: 0.8629999756813049\n"
          ]
        }
      ]
    },
    {
      "cell_type": "code",
      "source": [
        "best_trials.metrics.get_last_value(\"val_accuracy\")"
      ],
      "metadata": {
        "colab": {
          "base_uri": "https://localhost:8080/"
        },
        "id": "Is7chJHC-o-B",
        "outputId": "f9e68c71-3366-4ab2-cceb-d18c8bac9399"
      },
      "execution_count": null,
      "outputs": [
        {
          "output_type": "execute_result",
          "data": {
            "text/plain": [
              "0.8629999756813049"
            ]
          },
          "metadata": {},
          "execution_count": 30
        }
      ]
    },
    {
      "cell_type": "markdown",
      "source": [
        "If we want to fine-tune the preprocessing part then we can split the model_build function into two parts:\n",
        "\n",
        "1. Make a function called as build for doing the same objective as model_build.\n",
        "2. And second function called fit (say) takes hyperparamteres object and a xompiled moedl as an argument, as well as all the model.fit() arguments, and fits the model and returns the history object."
      ],
      "metadata": {
        "id": "UImXX0f-_8Tw"
      }
    },
    {
      "cell_type": "code",
      "source": [
        "class MyclassificationHperModel(kt.HyperModel):\n",
        "  def build(self, hyper_parameters):\n",
        "    return model_build(hyper_parameters)\n",
        "\n",
        "  def fit_model(self, hyper_parameters, model, x, y, **kwargs):\n",
        "    if hyper_parameters.Boolean(\"normalize\"):\n",
        "      normalized_layer = tf.keras.layers.Normalization()\n",
        "      x = normalized_layer(x)\n",
        "    return model.fit(x, y, **kwargs)"
      ],
      "metadata": {
        "id": "9wkYIF6z_I8D"
      },
      "execution_count": null,
      "outputs": []
    },
    {
      "cell_type": "code",
      "source": [
        "hyperband_tuner = kt.Hyperband(\n",
        "    MyclassificationHperModel(), objective=\"val_accuracy\", seed=42, max_epochs=10, factor=3, hyperband_iterations=2, overwrite=True, directory=\"my_fashion_mnist\", project_name=\"hyperband\"\n",
        ")"
      ],
      "metadata": {
        "id": "NzRKkHmgCoLi"
      },
      "execution_count": null,
      "outputs": []
    },
    {
      "cell_type": "code",
      "source": [
        "%pip install -q -U tensorboard-plugin-profile"
      ],
      "metadata": {
        "colab": {
          "base_uri": "https://localhost:8080/"
        },
        "id": "GLE9JkbeDOsz",
        "outputId": "38fd2493-3cc0-446a-b95b-0c0af3c218ad"
      },
      "execution_count": null,
      "outputs": [
        {
          "output_type": "stream",
          "name": "stdout",
          "text": [
            "\u001b[2K     \u001b[90m━━━━━━━━━━━━━━━━━━━━━━━━━━━━━━━━━━━━━━━━\u001b[0m \u001b[32m5.6/5.6 MB\u001b[0m \u001b[31m14.1 MB/s\u001b[0m eta \u001b[36m0:00:00\u001b[0m\n",
            "\u001b[?25h"
          ]
        }
      ]
    },
    {
      "cell_type": "code",
      "source": [
        "from pathlib import Path"
      ],
      "metadata": {
        "id": "mA8ktSEzESNW"
      },
      "execution_count": null,
      "outputs": []
    },
    {
      "cell_type": "code",
      "source": [
        "root_logdir = Path(hyperband_tuner.project_dir)/\"tensorboard\"\n",
        "tensorboard_cb = tf.keras.callbacks.TensorBoard(root_logdir)\n",
        "early_stopping_cb = tf.keras.callbacks.EarlyStopping(patience=2)\n",
        "hyperband_tuner.search(x_train, y_train, epochs=10, validation_data=(x_valid, y_valid), callbacks=[early_stopping_cb, tensorboard_cb])"
      ],
      "metadata": {
        "colab": {
          "base_uri": "https://localhost:8080/"
        },
        "id": "Z8Q_MEeHDN8h",
        "outputId": "a18c046c-8a73-47ac-df5a-6c317ac7e9b5"
      },
      "execution_count": null,
      "outputs": [
        {
          "output_type": "stream",
          "name": "stdout",
          "text": [
            "Trial 60 Complete [00h 00m 44s]\n",
            "val_accuracy: 0.8644000291824341\n",
            "\n",
            "Best val_accuracy So Far: 0.8906000256538391\n",
            "Total elapsed time: 00h 43m 36s\n"
          ]
        }
      ]
    },
    {
      "cell_type": "code",
      "source": [
        "bayesian_optimizer_tuner = kt.BayesianOptimization(\n",
        "    MyclassificationHperModel(), objective=\"val_accuracy\", seed=42, max_trials=10, alpha=1e-4, beta=2.6, overwrite=True, directory=\"My_fashion_mnist\", project_name=\"bayesian_opt\")\n",
        "bayesian_optimizer_tuner.search(x_train, y_train, epochs=10, validation_data=(x_valid, y_valid), callbacks=[early_stopping_cb, tensorboard_cb])"
      ],
      "metadata": {
        "colab": {
          "base_uri": "https://localhost:8080/"
        },
        "id": "5nCDB4m0iRKd",
        "outputId": "88d088c2-7f85-41dd-9de1-3fe29b6688e7"
      },
      "execution_count": null,
      "outputs": [
        {
          "output_type": "stream",
          "name": "stdout",
          "text": [
            "Trial 10 Complete [00h 01m 30s]\n",
            "val_accuracy: 0.8805999755859375\n",
            "\n",
            "Best val_accuracy So Far: 0.8808000087738037\n",
            "Total elapsed time: 00h 15m 52s\n"
          ]
        }
      ]
    },
    {
      "cell_type": "code",
      "source": [],
      "metadata": {
        "id": "ZfxAzoMalP_K"
      },
      "execution_count": null,
      "outputs": []
    }
  ]
}