{
  "nbformat": 4,
  "nbformat_minor": 0,
  "metadata": {
    "colab": {
      "provenance": [],
      "gpuType": "T4"
    },
    "kernelspec": {
      "name": "python3",
      "display_name": "Python 3"
    },
    "language_info": {
      "name": "python"
    },
    "accelerator": "GPU"
  },
  "cells": [
    {
      "cell_type": "markdown",
      "source": [
        "#**LOADING THE IMDB DATASET**"
      ],
      "metadata": {
        "id": "VkDioFRzB4l2"
      }
    },
    {
      "cell_type": "code",
      "execution_count": 2,
      "metadata": {
        "id": "PC9uiivJ_tOH"
      },
      "outputs": [],
      "source": [
        "from keras.datasets import imdb"
      ]
    },
    {
      "cell_type": "code",
      "source": [
        "(train_data, train_labels), (test_data, test_labels) = imdb.load_data(num_words=10000)"
      ],
      "metadata": {
        "colab": {
          "base_uri": "https://localhost:8080/"
        },
        "id": "F3SB_KtjAE-x",
        "outputId": "82b1d2e3-e20a-4f4b-c43f-8a80413442b4"
      },
      "execution_count": 3,
      "outputs": [
        {
          "output_type": "stream",
          "name": "stdout",
          "text": [
            "Downloading data from https://storage.googleapis.com/tensorflow/tf-keras-datasets/imdb.npz\n",
            "17464789/17464789 [==============================] - 0s 0us/step\n"
          ]
        }
      ]
    },
    {
      "cell_type": "markdown",
      "source": [
        "The argument num_words=10000 means we'll inly keep th tpo 10000 most frequently occuring words in the training data. This allows you to work wwith vecotr data of manageable size."
      ],
      "metadata": {
        "id": "uRy2iyPYAUA5"
      }
    },
    {
      "cell_type": "code",
      "source": [
        "train_data[0]"
      ],
      "metadata": {
        "colab": {
          "base_uri": "https://localhost:8080/"
        },
        "id": "DnoR78UrASjM",
        "outputId": "e2919a44-0baa-4ac7-83fb-6cfed2173ba8"
      },
      "execution_count": 4,
      "outputs": [
        {
          "output_type": "execute_result",
          "data": {
            "text/plain": [
              "[1,\n",
              " 14,\n",
              " 22,\n",
              " 16,\n",
              " 43,\n",
              " 530,\n",
              " 973,\n",
              " 1622,\n",
              " 1385,\n",
              " 65,\n",
              " 458,\n",
              " 4468,\n",
              " 66,\n",
              " 3941,\n",
              " 4,\n",
              " 173,\n",
              " 36,\n",
              " 256,\n",
              " 5,\n",
              " 25,\n",
              " 100,\n",
              " 43,\n",
              " 838,\n",
              " 112,\n",
              " 50,\n",
              " 670,\n",
              " 2,\n",
              " 9,\n",
              " 35,\n",
              " 480,\n",
              " 284,\n",
              " 5,\n",
              " 150,\n",
              " 4,\n",
              " 172,\n",
              " 112,\n",
              " 167,\n",
              " 2,\n",
              " 336,\n",
              " 385,\n",
              " 39,\n",
              " 4,\n",
              " 172,\n",
              " 4536,\n",
              " 1111,\n",
              " 17,\n",
              " 546,\n",
              " 38,\n",
              " 13,\n",
              " 447,\n",
              " 4,\n",
              " 192,\n",
              " 50,\n",
              " 16,\n",
              " 6,\n",
              " 147,\n",
              " 2025,\n",
              " 19,\n",
              " 14,\n",
              " 22,\n",
              " 4,\n",
              " 1920,\n",
              " 4613,\n",
              " 469,\n",
              " 4,\n",
              " 22,\n",
              " 71,\n",
              " 87,\n",
              " 12,\n",
              " 16,\n",
              " 43,\n",
              " 530,\n",
              " 38,\n",
              " 76,\n",
              " 15,\n",
              " 13,\n",
              " 1247,\n",
              " 4,\n",
              " 22,\n",
              " 17,\n",
              " 515,\n",
              " 17,\n",
              " 12,\n",
              " 16,\n",
              " 626,\n",
              " 18,\n",
              " 2,\n",
              " 5,\n",
              " 62,\n",
              " 386,\n",
              " 12,\n",
              " 8,\n",
              " 316,\n",
              " 8,\n",
              " 106,\n",
              " 5,\n",
              " 4,\n",
              " 2223,\n",
              " 5244,\n",
              " 16,\n",
              " 480,\n",
              " 66,\n",
              " 3785,\n",
              " 33,\n",
              " 4,\n",
              " 130,\n",
              " 12,\n",
              " 16,\n",
              " 38,\n",
              " 619,\n",
              " 5,\n",
              " 25,\n",
              " 124,\n",
              " 51,\n",
              " 36,\n",
              " 135,\n",
              " 48,\n",
              " 25,\n",
              " 1415,\n",
              " 33,\n",
              " 6,\n",
              " 22,\n",
              " 12,\n",
              " 215,\n",
              " 28,\n",
              " 77,\n",
              " 52,\n",
              " 5,\n",
              " 14,\n",
              " 407,\n",
              " 16,\n",
              " 82,\n",
              " 2,\n",
              " 8,\n",
              " 4,\n",
              " 107,\n",
              " 117,\n",
              " 5952,\n",
              " 15,\n",
              " 256,\n",
              " 4,\n",
              " 2,\n",
              " 7,\n",
              " 3766,\n",
              " 5,\n",
              " 723,\n",
              " 36,\n",
              " 71,\n",
              " 43,\n",
              " 530,\n",
              " 476,\n",
              " 26,\n",
              " 400,\n",
              " 317,\n",
              " 46,\n",
              " 7,\n",
              " 4,\n",
              " 2,\n",
              " 1029,\n",
              " 13,\n",
              " 104,\n",
              " 88,\n",
              " 4,\n",
              " 381,\n",
              " 15,\n",
              " 297,\n",
              " 98,\n",
              " 32,\n",
              " 2071,\n",
              " 56,\n",
              " 26,\n",
              " 141,\n",
              " 6,\n",
              " 194,\n",
              " 7486,\n",
              " 18,\n",
              " 4,\n",
              " 226,\n",
              " 22,\n",
              " 21,\n",
              " 134,\n",
              " 476,\n",
              " 26,\n",
              " 480,\n",
              " 5,\n",
              " 144,\n",
              " 30,\n",
              " 5535,\n",
              " 18,\n",
              " 51,\n",
              " 36,\n",
              " 28,\n",
              " 224,\n",
              " 92,\n",
              " 25,\n",
              " 104,\n",
              " 4,\n",
              " 226,\n",
              " 65,\n",
              " 16,\n",
              " 38,\n",
              " 1334,\n",
              " 88,\n",
              " 12,\n",
              " 16,\n",
              " 283,\n",
              " 5,\n",
              " 16,\n",
              " 4472,\n",
              " 113,\n",
              " 103,\n",
              " 32,\n",
              " 15,\n",
              " 16,\n",
              " 5345,\n",
              " 19,\n",
              " 178,\n",
              " 32]"
            ]
          },
          "metadata": {},
          "execution_count": 4
        }
      ]
    },
    {
      "cell_type": "code",
      "source": [
        "train_labels[0]"
      ],
      "metadata": {
        "colab": {
          "base_uri": "https://localhost:8080/"
        },
        "id": "75ct2totA5rO",
        "outputId": "0ec05f84-7b00-4ff0-875b-0d2671783fc6"
      },
      "execution_count": 5,
      "outputs": [
        {
          "output_type": "execute_result",
          "data": {
            "text/plain": [
              "1"
            ]
          },
          "metadata": {},
          "execution_count": 5
        }
      ]
    },
    {
      "cell_type": "code",
      "source": [
        "test_labels[0]"
      ],
      "metadata": {
        "colab": {
          "base_uri": "https://localhost:8080/"
        },
        "id": "R35lhQ1mGEcD",
        "outputId": "e4f9748a-47db-49e0-ba16-2a0dee230a1b"
      },
      "execution_count": 6,
      "outputs": [
        {
          "output_type": "execute_result",
          "data": {
            "text/plain": [
              "0"
            ]
          },
          "metadata": {},
          "execution_count": 6
        }
      ]
    },
    {
      "cell_type": "code",
      "source": [
        "max_value = max(max(sequence) for sequence in train_data)"
      ],
      "metadata": {
        "id": "F_BVqiHxA8sP"
      },
      "execution_count": 7,
      "outputs": []
    },
    {
      "cell_type": "code",
      "source": [
        "max_value"
      ],
      "metadata": {
        "colab": {
          "base_uri": "https://localhost:8080/"
        },
        "id": "83ItLmtTBcS2",
        "outputId": "44573717-9d12-4771-b970-296da671e417"
      },
      "execution_count": 8,
      "outputs": [
        {
          "output_type": "execute_result",
          "data": {
            "text/plain": [
              "9999"
            ]
          },
          "metadata": {},
          "execution_count": 8
        }
      ]
    },
    {
      "cell_type": "markdown",
      "source": [
        "#**PREPARING THE DATA**"
      ],
      "metadata": {
        "id": "m4rLSHjFB9ME"
      }
    },
    {
      "cell_type": "markdown",
      "source": [],
      "metadata": {
        "id": "ECZfO_y47p5m"
      }
    },
    {
      "cell_type": "markdown",
      "source": [
        "Now here we have to turn the dataset into tensors. There are two ways to do it:\n",
        "\n",
        "1. Have same length, turn them into an integer tensor of shape (samples, word_indices), and then use as the first layer in your network a layer capable of handling such tensor integers (the Embedding layer).\n",
        "\n",
        "2. Other is to One-hot encode the lists to turn them into vectors of 0's and 1's. This would mean, for instance, turning the sequence [3,5] into a 10000 dimensional vector that would except all 0's expect for indices 3 and 5 which would be 1. Then you can use the first layer of your network a Dense layer, capable of handling float-point vector data."
      ],
      "metadata": {
        "id": "DRPLgOBUCTAk"
      }
    },
    {
      "cell_type": "markdown",
      "source": [
        "##**ENCODING THE INTEGER SEQUENCE INTO A BINARY MATRIX**"
      ],
      "metadata": {
        "id": "bvzyf-LsEaUI"
      }
    },
    {
      "cell_type": "code",
      "source": [
        "import numpy as np"
      ],
      "metadata": {
        "id": "3YtYj-A6B1qA"
      },
      "execution_count": 9,
      "outputs": []
    },
    {
      "cell_type": "code",
      "source": [
        "def vectorize_seq(sequences, dimensions=10000):\n",
        "  output = np.zeros((len(sequences), dimensions))     # This creates all-zero matrix of shape (len(sequences), dimensions)\n",
        "  for i, sequence in enumerate(sequences):\n",
        "    output[i, sequence] = 1                           # Sets specifies indices of output[i] as 1's\n",
        "  return output\n",
        "\n",
        "x_train = vectorize_seq(train_data)\n",
        "x_test = vectorize_seq(test_data)"
      ],
      "metadata": {
        "id": "DzAwn6d0Ej-G"
      },
      "execution_count": 10,
      "outputs": []
    },
    {
      "cell_type": "code",
      "source": [
        "x_train[0]"
      ],
      "metadata": {
        "colab": {
          "base_uri": "https://localhost:8080/"
        },
        "id": "L6lmSeMzFnY6",
        "outputId": "2dd0f397-4f23-43fd-8e91-d399a3909919"
      },
      "execution_count": 11,
      "outputs": [
        {
          "output_type": "execute_result",
          "data": {
            "text/plain": [
              "array([0., 1., 1., ..., 0., 0., 0.])"
            ]
          },
          "metadata": {},
          "execution_count": 11
        }
      ]
    },
    {
      "cell_type": "code",
      "source": [
        "x_test[0]"
      ],
      "metadata": {
        "colab": {
          "base_uri": "https://localhost:8080/"
        },
        "id": "borfxs2UFrWS",
        "outputId": "fcb13679-1ef5-4d98-bd9f-9e6d60fb7699"
      },
      "execution_count": 12,
      "outputs": [
        {
          "output_type": "execute_result",
          "data": {
            "text/plain": [
              "array([0., 1., 1., ..., 0., 0., 0.])"
            ]
          },
          "metadata": {},
          "execution_count": 12
        }
      ]
    },
    {
      "cell_type": "markdown",
      "source": [
        "Now vectorizing the labels part"
      ],
      "metadata": {
        "id": "nMYUS9dkFxhN"
      }
    },
    {
      "cell_type": "code",
      "source": [
        "y_train = np.asarray(train_labels).astype('float32')\n",
        "y_test = np.asarray(test_labels).astype('float32')"
      ],
      "metadata": {
        "id": "JJn3lb5GFssx"
      },
      "execution_count": 13,
      "outputs": []
    },
    {
      "cell_type": "markdown",
      "source": [
        "#**BUILDING YOUR NETWORK**"
      ],
      "metadata": {
        "id": "eC-B_xi3GfHu"
      }
    },
    {
      "cell_type": "markdown",
      "source": [
        "Since, we know that the inputs are vectors and labels are scalars. This is simple we can use a simple stack of fully connected (Dense) layers with \"relu\" activation."
      ],
      "metadata": {
        "id": "GTgtNlI-G5c0"
      }
    },
    {
      "cell_type": "markdown",
      "source": [
        "##**THE MODEL DEFINITION**"
      ],
      "metadata": {
        "id": "9A2h506IIzze"
      }
    },
    {
      "cell_type": "code",
      "source": [
        "from keras import models\n",
        "from keras import layers\n",
        "\n",
        "model = models.Sequential()\n",
        "model.add(layers.Dense(16, activation=\"relu\", input_shape=(10000, )))\n",
        "model.add(layers.Dense(16, activation=\"relu\"))\n",
        "model.add(layers.Dense(1, activation=\"sigmoid\"))"
      ],
      "metadata": {
        "id": "PDcniD-JF_x1"
      },
      "execution_count": 14,
      "outputs": []
    },
    {
      "cell_type": "markdown",
      "source": [
        "#**COMPILING THE MODEL**"
      ],
      "metadata": {
        "id": "Wgvns1FKnqDO"
      }
    },
    {
      "cell_type": "markdown",
      "source": [
        "Here we will use loss function will be \"binary_crossentropy\" because it is the best choice when dealing with models that output probabilities.\n",
        "\n",
        "1. Crossentropy : It is a quantity from the field of Information Theory that measures the distance between probability distributions or between ground-truth distributions and our predictions."
      ],
      "metadata": {
        "id": "qIBsDseEmatj"
      }
    },
    {
      "cell_type": "code",
      "source": [
        "model.compile(optimizer=\"rmsprop\", loss=\"binary_crossentropy\", metrics=[\"accuracy\"])"
      ],
      "metadata": {
        "id": "OG7dJ7OEJyZS"
      },
      "execution_count": 15,
      "outputs": []
    },
    {
      "cell_type": "markdown",
      "source": [
        "#**VALIDATING YOUR APPROACH**"
      ],
      "metadata": {
        "id": "fr7Uw_CyB-px"
      }
    },
    {
      "cell_type": "markdown",
      "source": [
        "##**SETTING ASIDA A VALIDATION SET**"
      ],
      "metadata": {
        "id": "_cG-MB0fCTWq"
      }
    },
    {
      "cell_type": "code",
      "source": [
        "x_valid = x_train[:10000]\n",
        "partial_x_train = x_train[10000:]\n",
        "\n",
        "y_valid = y_train[:10000]\n",
        "partial_y_train = y_train[10000:]"
      ],
      "metadata": {
        "id": "1QoiqAD8n17E"
      },
      "execution_count": 16,
      "outputs": []
    },
    {
      "cell_type": "markdown",
      "source": [
        "##**TRAINING YOUR MODEL**"
      ],
      "metadata": {
        "id": "l-lBVyqMC2fq"
      }
    },
    {
      "cell_type": "markdown",
      "source": [
        "Now we will train model for 20 epochs (20 iterations over all samples in the x_train and y_train tensors), in mini-batches of 512 samples."
      ],
      "metadata": {
        "id": "sC7rxPDmCnfN"
      }
    },
    {
      "cell_type": "code",
      "source": [
        "model.compile(optimizer=\"rmsprop\", loss=\"binary_crossentropy\", metrics=[\"accuracy\"])\n",
        "\n",
        "history = model.fit(partial_x_train, partial_y_train, epochs=20, batch_size=512, validation_data=(x_valid, y_valid))"
      ],
      "metadata": {
        "colab": {
          "base_uri": "https://localhost:8080/"
        },
        "id": "1y3lawrGCef2",
        "outputId": "de627208-24ee-4a1d-d006-7e284a073e41"
      },
      "execution_count": 17,
      "outputs": [
        {
          "output_type": "stream",
          "name": "stdout",
          "text": [
            "Epoch 1/20\n",
            "30/30 [==============================] - 4s 67ms/step - loss: 0.5259 - accuracy: 0.7765 - val_loss: 0.4116 - val_accuracy: 0.8450\n",
            "Epoch 2/20\n",
            "30/30 [==============================] - 1s 25ms/step - loss: 0.3193 - accuracy: 0.8965 - val_loss: 0.3092 - val_accuracy: 0.8855\n",
            "Epoch 3/20\n",
            "30/30 [==============================] - 1s 22ms/step - loss: 0.2376 - accuracy: 0.9217 - val_loss: 0.2929 - val_accuracy: 0.8833\n",
            "Epoch 4/20\n",
            "30/30 [==============================] - 1s 24ms/step - loss: 0.1949 - accuracy: 0.9335 - val_loss: 0.2749 - val_accuracy: 0.8884\n",
            "Epoch 5/20\n",
            "30/30 [==============================] - 1s 22ms/step - loss: 0.1612 - accuracy: 0.9455 - val_loss: 0.2790 - val_accuracy: 0.8862\n",
            "Epoch 6/20\n",
            "30/30 [==============================] - 1s 29ms/step - loss: 0.1378 - accuracy: 0.9538 - val_loss: 0.2865 - val_accuracy: 0.8862\n",
            "Epoch 7/20\n",
            "30/30 [==============================] - 1s 30ms/step - loss: 0.1176 - accuracy: 0.9639 - val_loss: 0.3281 - val_accuracy: 0.8774\n",
            "Epoch 8/20\n",
            "30/30 [==============================] - 1s 37ms/step - loss: 0.0982 - accuracy: 0.9703 - val_loss: 0.3234 - val_accuracy: 0.8766\n",
            "Epoch 9/20\n",
            "30/30 [==============================] - 1s 22ms/step - loss: 0.0894 - accuracy: 0.9737 - val_loss: 0.3431 - val_accuracy: 0.8794\n",
            "Epoch 10/20\n",
            "30/30 [==============================] - 1s 21ms/step - loss: 0.0745 - accuracy: 0.9803 - val_loss: 0.3529 - val_accuracy: 0.8802\n",
            "Epoch 11/20\n",
            "30/30 [==============================] - 1s 24ms/step - loss: 0.0652 - accuracy: 0.9828 - val_loss: 0.3701 - val_accuracy: 0.8752\n",
            "Epoch 12/20\n",
            "30/30 [==============================] - 1s 21ms/step - loss: 0.0555 - accuracy: 0.9866 - val_loss: 0.3839 - val_accuracy: 0.8764\n",
            "Epoch 13/20\n",
            "30/30 [==============================] - 1s 20ms/step - loss: 0.0439 - accuracy: 0.9907 - val_loss: 0.4065 - val_accuracy: 0.8750\n",
            "Epoch 14/20\n",
            "30/30 [==============================] - 1s 21ms/step - loss: 0.0414 - accuracy: 0.9901 - val_loss: 0.4316 - val_accuracy: 0.8722\n",
            "Epoch 15/20\n",
            "30/30 [==============================] - 1s 21ms/step - loss: 0.0332 - accuracy: 0.9931 - val_loss: 0.4610 - val_accuracy: 0.8710\n",
            "Epoch 16/20\n",
            "30/30 [==============================] - 1s 22ms/step - loss: 0.0281 - accuracy: 0.9949 - val_loss: 0.4849 - val_accuracy: 0.8722\n",
            "Epoch 17/20\n",
            "30/30 [==============================] - 1s 22ms/step - loss: 0.0251 - accuracy: 0.9961 - val_loss: 0.5006 - val_accuracy: 0.8699\n",
            "Epoch 18/20\n",
            "30/30 [==============================] - 1s 21ms/step - loss: 0.0191 - accuracy: 0.9978 - val_loss: 0.5397 - val_accuracy: 0.8701\n",
            "Epoch 19/20\n",
            "30/30 [==============================] - 1s 21ms/step - loss: 0.0228 - accuracy: 0.9953 - val_loss: 0.5468 - val_accuracy: 0.8701\n",
            "Epoch 20/20\n",
            "30/30 [==============================] - 1s 21ms/step - loss: 0.0110 - accuracy: 0.9996 - val_loss: 0.5674 - val_accuracy: 0.8701\n"
          ]
        }
      ]
    },
    {
      "cell_type": "markdown",
      "source": [
        "History object has a member history, which is a dictionary containing data about everything that happened during training."
      ],
      "metadata": {
        "id": "1CKGGFF8KHNS"
      }
    },
    {
      "cell_type": "code",
      "source": [
        "history_dict = history.history\n",
        "history_dict.keys()"
      ],
      "metadata": {
        "colab": {
          "base_uri": "https://localhost:8080/"
        },
        "id": "bVjQIIofDUgT",
        "outputId": "7d239d29-4bd6-4b92-b5c8-f75f5ed991d4"
      },
      "execution_count": 18,
      "outputs": [
        {
          "output_type": "execute_result",
          "data": {
            "text/plain": [
              "dict_keys(['loss', 'accuracy', 'val_loss', 'val_accuracy'])"
            ]
          },
          "metadata": {},
          "execution_count": 18
        }
      ]
    },
    {
      "cell_type": "markdown",
      "source": [
        "##**PLOTTING THE TRAINING AND VALIDATION LOSS**"
      ],
      "metadata": {
        "id": "vLQvsjR4K_q5"
      }
    },
    {
      "cell_type": "code",
      "source": [
        "import matplotlib.pyplot as plt\n",
        "\n",
        "history_dict = history.history\n",
        "loss_values = history_dict['loss']\n",
        "val_loss_values = history_dict['val_loss']\n",
        "\n",
        "epochs = range(1, len(history_dict['accuracy']) + 1)\n",
        "\n",
        "plt.plot(epochs, loss_values, 'bo', label='Training Loss')     # 'bo' is for blue dot\n",
        "plt.plot(epochs, val_loss_values, 'b', label='Validation  loss')      # 'b' is for 'solid blue line'\n",
        "plt.title('Training and Validation loss')\n",
        "plt.xlabel('Epochs')\n",
        "plt.ylabel('Loss')\n",
        "plt.legend()\n",
        "\n",
        "plt.show()"
      ],
      "metadata": {
        "colab": {
          "base_uri": "https://localhost:8080/",
          "height": 472
        },
        "id": "jpWrrFikKyWV",
        "outputId": "4543296c-1237-4835-9c9c-692b8a991269"
      },
      "execution_count": 19,
      "outputs": [
        {
          "output_type": "display_data",
          "data": {
            "text/plain": [
              "<Figure size 640x480 with 1 Axes>"
            ],
            "image/png": "[encoded data removed]"
          },
          "metadata": {}
        }
      ]
    },
    {
      "cell_type": "markdown",
      "source": [
        "##**PLOTTING THE TRAINING AND VALIDATION ACCURACY**"
      ],
      "metadata": {
        "id": "3odqhrThQ1tL"
      }
    },
    {
      "cell_type": "code",
      "source": [
        "plt.clf()\n",
        "accuracy_values = history_dict['accuracy']\n",
        "val_accuracy_values = history_dict['val_accuracy']\n",
        "\n",
        "plt.plot(epochs, accuracy_values, 'bo', label='Training accuracy')\n",
        "plt.plot(epochs, val_accuracy_values, 'b', label='Validation accuracy')\n",
        "plt.title('Training and Validation accuracy')\n",
        "plt.xlabel('Epochs')\n",
        "plt.ylabel('Loss')\n",
        "plt.legend()\n",
        "\n",
        "plt.show()"
      ],
      "metadata": {
        "colab": {
          "base_uri": "https://localhost:8080/",
          "height": 472
        },
        "id": "BnGla0YTQY7c",
        "outputId": "d5013977-fed8-493f-c9c4-9b11a73acc0b"
      },
      "execution_count": 20,
      "outputs": [
        {
          "output_type": "display_data",
          "data": {
            "text/plain": [
              "<Figure size 640x480 with 1 Axes>"
            ],
            "image/png": "[encoded data removed]"
          },
          "metadata": {}
        }
      ]
    },
    {
      "cell_type": "markdown",
      "source": [
        "As we can see, the training loss decreases with every epoch, and the training accuracy increases with every epoch. That's what we would expect when running gradient descent optimization - the quantity you're trying to minimize should be less with every iteration."
      ],
      "metadata": {
        "id": "aTYimuhDSBqJ"
      }
    },
    {
      "cell_type": "markdown",
      "source": [
        "In precise terms, what we are seeing is overfitting :  after the 2nd epoch, we are overoptimizing on the training data, and we end up learning representatiosn that are specific to the training data and don't generlize to data outside of the training  set."
      ],
      "metadata": {
        "id": "22jKzp50S2mm"
      }
    },
    {
      "cell_type": "markdown",
      "source": [
        "So we can prevent the overfitting by stopping the training after three epochs."
      ],
      "metadata": {
        "id": "ED7woHi_Tq6f"
      }
    },
    {
      "cell_type": "markdown",
      "source": [
        "#**RETRAINING A MODEL FROM START**"
      ],
      "metadata": {
        "id": "CNWxhOgIUKYu"
      }
    },
    {
      "cell_type": "code",
      "source": [
        "model = models.Sequential()\n",
        "model.add(layers.Dense(16, activation=\"relu\", input_shape=(10000, )))\n",
        "model.add(layers.Dense(16, activation=\"relu\"))\n",
        "model.add(layers.Dense(1, activation=\"sigmoid\"))\n",
        "\n",
        "model.compile(optimizer='rmsprop', loss='binary_crossentropy', metrics=['accuracy'])\n",
        "\n",
        "model.fit(x_train, y_train, epochs=4, batch_size=512)\n",
        "output = model.evaluate(x_test, y_test)\n",
        "output"
      ],
      "metadata": {
        "colab": {
          "base_uri": "https://localhost:8080/"
        },
        "id": "aVtceGgORt1B",
        "outputId": "16c2b18b-3369-45c9-a454-9ad16252e7f7"
      },
      "execution_count": 21,
      "outputs": [
        {
          "output_type": "stream",
          "name": "stdout",
          "text": [
            "Epoch 1/4\n",
            "49/49 [==============================] - 1s 13ms/step - loss: 0.4605 - accuracy: 0.8082\n",
            "Epoch 2/4\n",
            "49/49 [==============================] - 1s 13ms/step - loss: 0.2647 - accuracy: 0.9056\n",
            "Epoch 3/4\n",
            "49/49 [==============================] - 1s 13ms/step - loss: 0.2107 - accuracy: 0.9240\n",
            "Epoch 4/4\n",
            "49/49 [==============================] - 1s 12ms/step - loss: 0.1771 - accuracy: 0.9359\n",
            "782/782 [==============================] - 2s 3ms/step - loss: 0.3133 - accuracy: 0.8747\n"
          ]
        },
        {
          "output_type": "execute_result",
          "data": {
            "text/plain": [
              "[0.3133220970630646, 0.8747199773788452]"
            ]
          },
          "metadata": {},
          "execution_count": 21
        }
      ]
    },
    {
      "cell_type": "markdown",
      "source": [
        "##**USING A TRAINED NETWORK TO GENERATE PREDICTIONS ON NEW DATA**"
      ],
      "metadata": {
        "id": "NP-kw2zM8qyN"
      }
    },
    {
      "cell_type": "code",
      "source": [
        "model.predict(x_test)"
      ],
      "metadata": {
        "colab": {
          "base_uri": "https://localhost:8080/"
        },
        "id": "g4oGKLLOVEO6",
        "outputId": "ba06a405-4f95-45f8-cf19-d8e6dc5aa470"
      },
      "execution_count": 22,
      "outputs": [
        {
          "output_type": "stream",
          "name": "stdout",
          "text": [
            "782/782 [==============================] - 2s 2ms/step\n"
          ]
        },
        {
          "output_type": "execute_result",
          "data": {
            "text/plain": [
              "array([[0.12995866],\n",
              "       [0.9992157 ],\n",
              "       [0.61830986],\n",
              "       ...,\n",
              "       [0.07948912],\n",
              "       [0.03730809],\n",
              "       [0.45925388]], dtype=float32)"
            ]
          },
          "metadata": {},
          "execution_count": 22
        }
      ]
    },
    {
      "cell_type": "code",
      "source": [],
      "metadata": {
        "id": "zIKrzkej812K"
      },
      "execution_count": null,
      "outputs": []
    }
  ]
}